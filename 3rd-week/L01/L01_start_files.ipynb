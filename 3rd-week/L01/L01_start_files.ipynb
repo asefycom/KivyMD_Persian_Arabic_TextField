{
  "cells": [
    {
      "cell_type": "markdown",
      "metadata": {
        "id": "view-in-github",
        "colab_type": "text"
      },
      "source": [
        "<a href=\"https://colab.research.google.com/github/asefycom/KivyMD_Persian_Arabic_TextField/blob/master/3rd-week/L01/L01_start_files.ipynb\" target=\"_parent\"><img src=\"https://colab.research.google.com/assets/colab-badge.svg\" alt=\"Open In Colab\"/></a>"
      ]
    },
    {
      "cell_type": "markdown",
      "metadata": {
        "id": "WMGxBP-yQoCl"
      },
      "source": [
        "# هفته سوم - درس ۱: کار با فایل در پایتون\n",
        "\n",
        "فیلم این درس رو ببین تا بتونی همگام با این دفترچه پیش بری.\n",
        "\n",
        "تا اینجای دوره:\n",
        "* با داده‌هایی کار کردی که داخل خود دفترچه ژوپیتر ساخته شده و به متغیرهایی تخصیص داده می شدن.\n",
        "* استرینگ‌های چند خطی ساختی.\n",
        "* لیست و دیکشنری ساختی.\n",
        "* اجرای کارها رو با حلقه و شرط گذاشتن، خودکار کردی.\n",
        "\n",
        "حالا تو این درس با فایل‌ها کار می‌کنی و داده‌هایی که برای همیشه تو فایل‌ها ذخیره میشن.\n"
      ]
    },
    {
      "cell_type": "markdown",
      "source": [
        "## راه‌اندازی توگدر برای کار با هوش مصنوعی\n",
        "\n",
        "اول بیا پیش‌نیازها رو آماده کنیم."
      ],
      "metadata": {
        "id": "Te3TpT3EearI"
      }
    },
    {
      "cell_type": "code",
      "execution_count": 2,
      "metadata": {
        "height": 48,
        "id": "-NyruzVSaNf-"
      },
      "outputs": [],
      "source": [
        "# یک تابع و یک کلاس که برنامه‌نویس‌های حرفه‌ای برامون قبلا درست کردن\n",
        "from IPython.display import display, Markdown"
      ]
    },
    {
      "cell_type": "code",
      "source": [
        "# و اینم پکیج توگدر که برنامه‌نویس‌های مجموعه توگدر برای کار با هوش مصنوعی‌ها رست کردن\n",
        "!pip install together"
      ],
      "metadata": {
        "colab": {
          "base_uri": "https://localhost:8080/"
        },
        "id": "C63UqOdneuNq",
        "outputId": "73a12899-c760-4b92-f187-8a7f3f361ee5"
      },
      "execution_count": 3,
      "outputs": [
        {
          "output_type": "stream",
          "name": "stdout",
          "text": [
            "Collecting together\n",
            "  Downloading together-1.5.21-py3-none-any.whl.metadata (15 kB)\n",
            "Requirement already satisfied: aiohttp<4.0.0,>=3.9.3 in /usr/local/lib/python3.11/dist-packages (from together) (3.11.15)\n",
            "Requirement already satisfied: click<9.0.0,>=8.1.7 in /usr/local/lib/python3.11/dist-packages (from together) (8.2.1)\n",
            "Collecting eval-type-backport<0.3.0,>=0.1.3 (from together)\n",
            "  Downloading eval_type_backport-0.2.2-py3-none-any.whl.metadata (2.2 kB)\n",
            "Requirement already satisfied: filelock<4.0.0,>=3.13.1 in /usr/local/lib/python3.11/dist-packages (from together) (3.18.0)\n",
            "Requirement already satisfied: numpy>=1.23.5 in /usr/local/lib/python3.11/dist-packages (from together) (2.0.2)\n",
            "Requirement already satisfied: pillow<12.0.0,>=11.1.0 in /usr/local/lib/python3.11/dist-packages (from together) (11.2.1)\n",
            "Requirement already satisfied: pydantic<3.0.0,>=2.6.3 in /usr/local/lib/python3.11/dist-packages (from together) (2.11.7)\n",
            "Requirement already satisfied: requests<3.0.0,>=2.31.0 in /usr/local/lib/python3.11/dist-packages (from together) (2.32.3)\n",
            "Requirement already satisfied: rich<15.0.0,>=13.8.1 in /usr/local/lib/python3.11/dist-packages (from together) (13.9.4)\n",
            "Requirement already satisfied: tabulate<0.10.0,>=0.9.0 in /usr/local/lib/python3.11/dist-packages (from together) (0.9.0)\n",
            "Requirement already satisfied: tqdm<5.0.0,>=4.66.2 in /usr/local/lib/python3.11/dist-packages (from together) (4.67.1)\n",
            "Collecting typer<0.16,>=0.9 (from together)\n",
            "  Downloading typer-0.15.4-py3-none-any.whl.metadata (15 kB)\n",
            "Requirement already satisfied: aiohappyeyeballs>=2.3.0 in /usr/local/lib/python3.11/dist-packages (from aiohttp<4.0.0,>=3.9.3->together) (2.6.1)\n",
            "Requirement already satisfied: aiosignal>=1.1.2 in /usr/local/lib/python3.11/dist-packages (from aiohttp<4.0.0,>=3.9.3->together) (1.4.0)\n",
            "Requirement already satisfied: attrs>=17.3.0 in /usr/local/lib/python3.11/dist-packages (from aiohttp<4.0.0,>=3.9.3->together) (25.3.0)\n",
            "Requirement already satisfied: frozenlist>=1.1.1 in /usr/local/lib/python3.11/dist-packages (from aiohttp<4.0.0,>=3.9.3->together) (1.7.0)\n",
            "Requirement already satisfied: multidict<7.0,>=4.5 in /usr/local/lib/python3.11/dist-packages (from aiohttp<4.0.0,>=3.9.3->together) (6.6.3)\n",
            "Requirement already satisfied: propcache>=0.2.0 in /usr/local/lib/python3.11/dist-packages (from aiohttp<4.0.0,>=3.9.3->together) (0.3.2)\n",
            "Requirement already satisfied: yarl<2.0,>=1.17.0 in /usr/local/lib/python3.11/dist-packages (from aiohttp<4.0.0,>=3.9.3->together) (1.20.1)\n",
            "Requirement already satisfied: annotated-types>=0.6.0 in /usr/local/lib/python3.11/dist-packages (from pydantic<3.0.0,>=2.6.3->together) (0.7.0)\n",
            "Requirement already satisfied: pydantic-core==2.33.2 in /usr/local/lib/python3.11/dist-packages (from pydantic<3.0.0,>=2.6.3->together) (2.33.2)\n",
            "Requirement already satisfied: typing-extensions>=4.12.2 in /usr/local/lib/python3.11/dist-packages (from pydantic<3.0.0,>=2.6.3->together) (4.14.1)\n",
            "Requirement already satisfied: typing-inspection>=0.4.0 in /usr/local/lib/python3.11/dist-packages (from pydantic<3.0.0,>=2.6.3->together) (0.4.1)\n",
            "Requirement already satisfied: charset-normalizer<4,>=2 in /usr/local/lib/python3.11/dist-packages (from requests<3.0.0,>=2.31.0->together) (3.4.2)\n",
            "Requirement already satisfied: idna<4,>=2.5 in /usr/local/lib/python3.11/dist-packages (from requests<3.0.0,>=2.31.0->together) (3.10)\n",
            "Requirement already satisfied: urllib3<3,>=1.21.1 in /usr/local/lib/python3.11/dist-packages (from requests<3.0.0,>=2.31.0->together) (2.4.0)\n",
            "Requirement already satisfied: certifi>=2017.4.17 in /usr/local/lib/python3.11/dist-packages (from requests<3.0.0,>=2.31.0->together) (2025.7.9)\n",
            "Requirement already satisfied: markdown-it-py>=2.2.0 in /usr/local/lib/python3.11/dist-packages (from rich<15.0.0,>=13.8.1->together) (3.0.0)\n",
            "Requirement already satisfied: pygments<3.0.0,>=2.13.0 in /usr/local/lib/python3.11/dist-packages (from rich<15.0.0,>=13.8.1->together) (2.19.2)\n",
            "Collecting click<9.0.0,>=8.1.7 (from together)\n",
            "  Downloading click-8.1.8-py3-none-any.whl.metadata (2.3 kB)\n",
            "Requirement already satisfied: shellingham>=1.3.0 in /usr/local/lib/python3.11/dist-packages (from typer<0.16,>=0.9->together) (1.5.4)\n",
            "Requirement already satisfied: mdurl~=0.1 in /usr/local/lib/python3.11/dist-packages (from markdown-it-py>=2.2.0->rich<15.0.0,>=13.8.1->together) (0.1.2)\n",
            "Downloading together-1.5.21-py3-none-any.whl (96 kB)\n",
            "\u001b[2K   \u001b[90m━━━━━━━━━━━━━━━━━━━━━━━━━━━━━━━━━━━━━━━━\u001b[0m \u001b[32m96.1/96.1 kB\u001b[0m \u001b[31m4.4 MB/s\u001b[0m eta \u001b[36m0:00:00\u001b[0m\n",
            "\u001b[?25hDownloading eval_type_backport-0.2.2-py3-none-any.whl (5.8 kB)\n",
            "Downloading typer-0.15.4-py3-none-any.whl (45 kB)\n",
            "\u001b[2K   \u001b[90m━━━━━━━━━━━━━━━━━━━━━━━━━━━━━━━━━━━━━━━━\u001b[0m \u001b[32m45.3/45.3 kB\u001b[0m \u001b[31m3.4 MB/s\u001b[0m eta \u001b[36m0:00:00\u001b[0m\n",
            "\u001b[?25hDownloading click-8.1.8-py3-none-any.whl (98 kB)\n",
            "\u001b[2K   \u001b[90m━━━━━━━━━━━━━━━━━━━━━━━━━━━━━━━━━━━━━━━━\u001b[0m \u001b[32m98.2/98.2 kB\u001b[0m \u001b[31m7.4 MB/s\u001b[0m eta \u001b[36m0:00:00\u001b[0m\n",
            "\u001b[?25hInstalling collected packages: eval-type-backport, click, typer, together\n",
            "  Attempting uninstall: click\n",
            "    Found existing installation: click 8.2.1\n",
            "    Uninstalling click-8.2.1:\n",
            "      Successfully uninstalled click-8.2.1\n",
            "  Attempting uninstall: typer\n",
            "    Found existing installation: typer 0.16.0\n",
            "    Uninstalling typer-0.16.0:\n",
            "      Successfully uninstalled typer-0.16.0\n",
            "Successfully installed click-8.1.8 eval-type-backport-0.2.2 together-1.5.21 typer-0.15.4\n"
          ]
        }
      ]
    },
    {
      "cell_type": "code",
      "source": [
        "# و با استفاده از تابع‌های بسته توگدر و تابع‌های بسته کولب\n",
        "# تابع خودمون برای ارسال پرامپت و دریافت پاسخ هوش مصنوعی رو نوشتیم\n",
        "# یادمون هست که در مورد ثبت نام در توگدر، دریافت کلید و\n",
        "# ذخیره کردن کلید ای‌پی‌آی تو محیط کولب تو درس ۹ هفته اول توضیح داده شده\n",
        "from google.colab import userdata\n",
        "from together import Together\n",
        "\n",
        "client = Together(api_key=userdata.get('TOGETHER_API_KEY'))\n",
        "\n",
        "def print_llm_response(prompt):\n",
        "    response = client.chat.completions.create(\n",
        "        model=\"google/gemma-3n-E4B-it\",\n",
        "        # model=\"meta-llama/Llama-3.3-70B-Instruct-Turbo-Free\",\n",
        "        messages=[\n",
        "        {\n",
        "            \"role\": \"user\",\n",
        "            \"content\": prompt\n",
        "        }\n",
        "        ]\n",
        "    )\n",
        "    return response.choices[0].message.content"
      ],
      "metadata": {
        "id": "5vJIA06OfCbu"
      },
      "execution_count": 5,
      "outputs": []
    },
    {
      "cell_type": "markdown",
      "metadata": {
        "id": "nowtqjjraNf_"
      },
      "source": [
        "## آزمایش کار با هوش مصنوعی\n",
        "\n",
        "* پرامپتی برای دریافت دستور غذا از هوش مصنوعی بنویس"
      ]
    },
    {
      "cell_type": "code",
      "execution_count": 6,
      "metadata": {
        "height": 270,
        "colab": {
          "base_uri": "https://localhost:8080/"
        },
        "id": "MgTFdZdfaNgB",
        "outputId": "7b3acb03-a61a-4117-c855-267e397f08e3"
      },
      "outputs": [
        {
          "output_type": "stream",
          "name": "stdout",
          "text": [
            "## مرغ و بروکلی با برنج\n",
            "\n",
            "**مواد لازم:**\n",
            "\n",
            "*   2 عدد سینه مرغ\n",
            "*   1 فنجان بروکلی\n",
            "*   1 فنجان برنج\n",
            "*   روغن زیتون\n",
            "*   نمک و فلفل به مقدار لازم\n",
            "*   (اختیاری) سیر و ادویه‌های دلخواه\n",
            "\n",
            "**طرز تهیه:**\n",
            "\n",
            "1.  برنج را طبق دستور روی بسته بپزید.\n",
            "2.  سینه مرغ را به قطعات کوچک برش دهید و با نمک، فلفل و (در صورت تمایل) سیر و ادویه مزه‌دار کنید.\n",
            "3.  در یک تابه، مقداری روغن زیتون بریزید و مرغ را تفت دهید تا بپزد.\n",
            "4.  بروکلی را به تابه اضافه کنید و به مدت 5-7 دقیقه تفت دهید تا نرم شود.\n",
            "5.  برنج پخته شده را به تابه اضافه کنید و هم بزنید تا با مرغ و بروکلی مخلوط شود.\n",
            "6.  بلافاصله سرو کنید.\n",
            "\n",
            "**نکته:** برای طعم بهتر، می‌توانید از کمی آب لیمو ترش در آخر کار استفاده کنید.\n",
            "\n"
          ]
        }
      ],
      "source": [
        "# لیست موادی که دوست داری تو غذا باشن یا تو خونه داری\n",
        "ingredients = ['مرغ', 'بروکلی', 'برنج']\n",
        "\n",
        "# نوشتن پرامپت\n",
        "prompt = f\"\"\"\n",
        "    یک دستور غذای کوتاه با استفاده از این مواد بساز:\n",
        "    {ingredients}\n",
        "\"\"\"\n",
        "\n",
        "# دریافت پاسخ مدل زبانی بزرگ یا ال ال ام\n",
        "response = print_llm_response(prompt)\n",
        "\n",
        "# چاپ پاسخ\n",
        "print(response)"
      ]
    },
    {
      "cell_type": "markdown",
      "metadata": {
        "id": "JRnU4V7DaNgC"
      },
      "source": [
        "## باز کردن فایل متنی و ذخیره در یک استرینگ"
      ]
    },
    {
      "cell_type": "markdown",
      "metadata": {
        "id": "HXLejevTaNgC"
      },
      "source": [
        "قصد داریم داده‌هایی رو باز کنیم که داخل فایل‌هایی از قبل ذخیره شدن.\n",
        "\n",
        "* بیا با ایمیلی شروع کنیم که دوستی فرستاده و متنش داخل یک فایل تکست ذخیره شده. فایل رو باز کن و محتواش رو بخون"
      ]
    },
    {
      "cell_type": "code",
      "execution_count": null,
      "metadata": {
        "height": 65,
        "id": "o2ezCuk2aNgD"
      },
      "outputs": [],
      "source": [
        "f = open(\"email.txt\", \"r\")\n",
        "email = f.read()\n",
        "f.close()"
      ]
    },
    {
      "cell_type": "markdown",
      "metadata": {
        "id": "DFPJBmrjaNgE"
      },
      "source": [
        "* محتوای ایمیل رو چاپ کن"
      ]
    },
    {
      "cell_type": "code",
      "execution_count": null,
      "metadata": {
        "height": 31,
        "id": "iAxSb-SEaNgF"
      },
      "outputs": [],
      "source": [
        "print(email)"
      ]
    },
    {
      "cell_type": "markdown",
      "metadata": {
        "id": "z12HI9MdaNgG"
      },
      "source": [
        "<p style=\"background-color:#F5C780; padding:15px\"> 🤖 <b>از چت‌بات استفاده کن</b>:\n",
        "    <br><br>\n",
        "    این کد رو خط به خط توضیح بده.\n",
        "    <br><br>f = open(\"email.txt\", \"r\")\n",
        "    <br>email = f.read()\n",
        "    <br>f.close()\n",
        "</p>"
      ]
    },
    {
      "cell_type": "markdown",
      "metadata": {
        "id": "HGc6hCPgaNgG"
      },
      "source": [
        "<p style=\"background-color:#F5C780; padding:15px\"> 🤖 <b>با چت‌بات تو همون چت بالا ادامه بده:</b>:\n",
        "    <br><br>\n",
        "    چی میشه اگه من فایل رو نبندم.\n",
        "</p>"
      ]
    },
    {
      "cell_type": "markdown",
      "metadata": {
        "id": "uXDy9UYOaNgG"
      },
      "source": [
        "## استفاده از هوش مصنوعی برای استخراج بخش خاصی از ایمیل"
      ]
    },
    {
      "cell_type": "markdown",
      "metadata": {
        "id": "7Gd5_3JnaNgK"
      },
      "source": [
        "* پرامپتی بساز که بخش‌های بولت‌دار ایمیل بالا رو استخراج کنه."
      ]
    },
    {
      "cell_type": "code",
      "execution_count": null,
      "metadata": {
        "height": 151,
        "id": "2OL6h6fYaNgK"
      },
      "outputs": [],
      "source": [
        "prompt = f\"\"\"بخش‌های بولت‌دار ایمیل زیر رو استخراج کن.\n",
        "اطلاعات فرستنده ایمیل هم درج کن.\n",
        "\n",
        "ایمیل:\n",
        "{email}\"\"\"\n",
        "\n",
        "print(prompt)"
      ]
    },
    {
      "cell_type": "markdown",
      "metadata": {
        "id": "mXkGkJdnaNgK"
      },
      "source": [
        "* حالا این پرامپت رو مدل‌زبانی‌بزرگ بفرست ببینیم چی می‌کنه!"
      ]
    },
    {
      "cell_type": "code",
      "execution_count": null,
      "metadata": {
        "height": 48,
        "id": "nE1lBSwmaNgK"
      },
      "outputs": [],
      "source": [
        "bullet_points = print_llm_response(prompt)\n",
        "print(bullet_points)"
      ]
    },
    {
      "cell_type": "markdown",
      "metadata": {
        "id": "82vngq2WaNgK"
      },
      "source": [
        "* حالا از کلاس مارک‌داون که تو بخش پیشنیازها فراخوانی کردیم، استفاده کن تا خروجی رو به صورت مارک داون تجزیه کنه.  "
      ]
    },
    {
      "cell_type": "code",
      "execution_count": null,
      "metadata": {
        "height": 48,
        "id": "uETGmb59aNgL"
      },
      "outputs": [],
      "source": [
        "# چاپ خروجی به فرمت مارک داون\n",
        "display(Markdown(bullet_points))"
      ]
    },
    {
      "cell_type": "markdown",
      "metadata": {
        "id": "J3j66i7raNgL"
      },
      "source": [
        "## تمرین فراتر\n",
        "\n",
        "تمرین‌های جذاب پایین رو بخون. از مدل زبانی کمک بگیر تا کارهایی رو بر اساس متن ایمیل انجام بده.\n",
        "\n",
        "### تمرین ۱\n",
        "\n",
        "کد پایین رو طوری کامل کن که کشورهای ذکر شده داخل متن ایمیل رو استخراج کنی"
      ]
    },
    {
      "cell_type": "code",
      "execution_count": null,
      "metadata": {
        "height": 202,
        "id": "J4dhgoklaNgL"
      },
      "outputs": [],
      "source": [
        "# پرامپت رو طوری بنویس که کشورهای داخل ایمیل استخراج بشن\n",
        "prompt = f\"\"\"WRITE YOUR PROMPT HERE\n",
        "\n",
        "Email:\n",
        "{email}\n",
        "\"\"\"\n",
        "\n",
        "countries = get_llm_response(prompt)\n",
        "print(countries)"
      ]
    },
    {
      "cell_type": "markdown",
      "metadata": {
        "id": "eQ5kztD9aNgL"
      },
      "source": [
        "### تمرین ۲\n",
        "\n",
        "کدی بنویس که بر اساس متن ایمیل همه کارهایی که در سفر توسط فرستنده انجام شده فهرست بشن:\n",
        "\n",
        "از تابع زیر باید استفاده کنی:\n",
        "\n",
        "`print_llm_response`."
      ]
    },
    {
      "cell_type": "code",
      "execution_count": null,
      "metadata": {
        "height": 100,
        "id": "EGmydya_aNgL"
      },
      "outputs": [],
      "source": [
        "# لیستی از کارهای انجام شده در سفر تهیه کن.\n",
        "# باید پرامپت مناسب بنویسی و خروجی رو ذخیره کنی\n",
        "# START YOUR CODE HERE"
      ]
    },
    {
      "cell_type": "markdown",
      "source": [
        "### تمرین ۳\n",
        "جستجو کن که آیا امکان دریافت ایمیل‌های گوگلت رو باید ای‌پی‌آی داری؟\n",
        "\n",
        "یک همچین عبارتی رو باید جستجو و نتیجه رو بررسی کنی.\n",
        "\n",
        "اگه تو نتایج فیلمی از یوتیوب بود تماشا کن. هر چقدر بفهمی خوبه!\n",
        "\n",
        "how to read emails from my gmail using api"
      ],
      "metadata": {
        "id": "snQY9m6I8hlM"
      }
    }
  ],
  "metadata": {
    "colab": {
      "gpuType": "T4",
      "provenance": [],
      "include_colab_link": true
    },
    "kernelspec": {
      "display_name": "Python 3 (ipykernel)",
      "language": "python",
      "name": "python3"
    },
    "language_info": {
      "codemirror_mode": {
        "name": "ipython",
        "version": 3
      },
      "file_extension": ".py",
      "mimetype": "text/x-python",
      "name": "python",
      "nbconvert_exporter": "python",
      "pygments_lexer": "ipython3",
      "version": "3.9.19"
    }
  },
  "nbformat": 4,
  "nbformat_minor": 0
}