{
  "cells": [
    {
      "cell_type": "markdown",
      "metadata": {
        "id": "view-in-github",
        "colab_type": "text"
      },
      "source": [
        "<a href=\"https://colab.research.google.com/github/asefycom/KivyMD_Persian_Arabic_TextField/blob/master/1st-week/L08_variables.ipynb\" target=\"_parent\"><img src=\"https://colab.research.google.com/assets/colab-badge.svg\" alt=\"Open In Colab\"/></a>"
      ]
    },
    {
      "cell_type": "markdown",
      "id": "817221c9",
      "metadata": {
        "id": "817221c9"
      },
      "source": [
        "# هفته اول - درس ۸\n",
        "اول فیلم این درس رو ببینید."
      ]
    },
    {
      "cell_type": "markdown",
      "id": "1512b57b",
      "metadata": {
        "id": "1512b57b"
      },
      "source": [
        "متغیر به انگلیسی\n",
        "\n",
        "<b>variable</b>\n",
        "\n",
        "در دنیای برنامه‌نویسی فضایی از حافظه است که نامی به آن می‌دهیم و برای ذخیره، پردازش و ویرایش یک داده استفاده می‌کنیم.\n",
        "\n",
        "فرض کن قصد داری عدد سن خودت رو جایی ذخیره کنی.\n",
        "\n",
        "با این خط کد در پایتون می‌تونی یک متغیر با نام\n",
        "`age`\n",
        "ایجاد کنی و مقدار۲۸ رو در اون ذخیره کنی.\n"
      ]
    },
    {
      "cell_type": "code",
      "execution_count": null,
      "id": "9ae82ae7",
      "metadata": {
        "id": "9ae82ae7"
      },
      "outputs": [],
      "source": [
        "age = 28"
      ]
    },
    {
      "cell_type": "markdown",
      "id": "e0d89b8d",
      "metadata": {
        "id": "e0d89b8d"
      },
      "source": [
        "حالا هر جا که این نام رو صدا بزنی مقدارش به تو برگردونده میشه.\n",
        "\n",
        "مثلا:"
      ]
    },
    {
      "cell_type": "code",
      "execution_count": null,
      "id": "80b5943a",
      "metadata": {
        "id": "80b5943a"
      },
      "outputs": [],
      "source": [
        "print(age)"
      ]
    },
    {
      "cell_type": "markdown",
      "id": "8ddf96c1",
      "metadata": {
        "id": "8ddf96c1"
      },
      "source": [
        "بالا گفتیم که مقدار داده‌ای که تو این فضا ذخیره شده می‌تونه تغییر کنه. به همین دلیل هم بهش «متغیر» گفته میشه:"
      ]
    },
    {
      "cell_type": "code",
      "execution_count": null,
      "id": "0cc2c56f",
      "metadata": {
        "id": "0cc2c56f"
      },
      "outputs": [],
      "source": [
        "age = 5"
      ]
    },
    {
      "cell_type": "markdown",
      "id": "448a0658",
      "metadata": {
        "id": "448a0658"
      },
      "source": [
        "مثلا تو خط کد بالا مقدار متغیر رو از ۲۸ به ۵ تغییر دادی."
      ]
    },
    {
      "cell_type": "code",
      "execution_count": null,
      "id": "b594137a",
      "metadata": {
        "id": "b594137a"
      },
      "outputs": [],
      "source": [
        "print(age)"
      ]
    },
    {
      "cell_type": "markdown",
      "id": "764df696",
      "metadata": {
        "id": "764df696"
      },
      "source": [
        "## متغیرها جایی برای ذخیره انواع داده"
      ]
    },
    {
      "cell_type": "markdown",
      "id": "3b4f1b37",
      "metadata": {
        "id": "3b4f1b37"
      },
      "source": [
        "از متغیرها می‌تونی برای ذخیره انواع داده مثل استرینگ، اینتیجر، فلوت و ... استفاده کنی.\n",
        "\n",
        "مثلا اینجا من اسم خودم رو به صورت یک استرینگ و وزن خودم رو به صورت یک عدد اعشاری ذخیره می‌کنم."
      ]
    },
    {
      "cell_type": "code",
      "execution_count": null,
      "id": "d2e765a1",
      "metadata": {
        "id": "d2e765a1"
      },
      "outputs": [],
      "source": [
        "name = \"Mostapha\"\n",
        "weight = 189"
      ]
    },
    {
      "cell_type": "markdown",
      "id": "e6595034",
      "metadata": {
        "id": "e6595034"
      },
      "source": [
        "خبر خوب که از درس گذشته منتظرش بودی:\n",
        "\n",
        "از متغیرها میشه تو استرینگ‌های فرمت شده استفاده و اون‌ها رو خواناتر کرد.\n",
        "\n",
        "برای نمونه:"
      ]
    },
    {
      "cell_type": "code",
      "execution_count": null,
      "id": "37d2833c",
      "metadata": {
        "id": "37d2833c"
      },
      "outputs": [],
      "source": [
        "print(f\"Age: {age}\")"
      ]
    },
    {
      "cell_type": "markdown",
      "id": "d156652d",
      "metadata": {
        "id": "d156652d"
      },
      "source": [
        "و این یکی رو هم داشته باش:"
      ]
    },
    {
      "cell_type": "code",
      "execution_count": null,
      "id": "f4dd9caa",
      "metadata": {
        "id": "f4dd9caa"
      },
      "outputs": [],
      "source": [
        "print(f\"Name: {name}\")\n",
        "print(f\"Weight: {weight}\")"
      ]
    },
    {
      "cell_type": "markdown",
      "id": "f86ccabc",
      "metadata": {
        "id": "f86ccabc"
      },
      "source": [
        "دقت کن که نام متغیر رو باید دقیق بنویسی و به حرف بزرگ و کوچیک هم حساس هست.\n",
        "\n",
        "برای مثال خط کد پایین خطا داره. چرا؟"
      ]
    },
    {
      "cell_type": "code",
      "execution_count": null,
      "id": "c43043e4",
      "metadata": {
        "id": "c43043e4"
      },
      "outputs": [],
      "source": [
        "print(f\"Weight: {Weight}\")"
      ]
    },
    {
      "cell_type": "markdown",
      "id": "99c43159-f5b4-4ab5-b9d4-b142979cb172",
      "metadata": {
        "id": "99c43159-f5b4-4ab5-b9d4-b142979cb172"
      },
      "source": [
        "## متغیرها برای ذخیره مقدارهای متغیر"
      ]
    },
    {
      "cell_type": "markdown",
      "id": "9154a6a6-ab67-4d96-85fc-5bbfbea65e11",
      "metadata": {
        "id": "9154a6a6-ab67-4d96-85fc-5bbfbea65e11"
      },
      "source": [
        "برای مثال وقتی قصد داریم عدد امتیاز بازیکن رو نگهداری کنیم."
      ]
    },
    {
      "cell_type": "code",
      "execution_count": null,
      "id": "5a47354d",
      "metadata": {
        "id": "5a47354d"
      },
      "outputs": [],
      "source": [
        "score = 0 # now score is 0\n",
        "print(score)"
      ]
    },
    {
      "cell_type": "markdown",
      "id": "b59c99bb-d58a-4a8e-9f1b-fd2010cf7e12",
      "metadata": {
        "id": "b59c99bb-d58a-4a8e-9f1b-fd2010cf7e12"
      },
      "source": [
        "وقتی امتیاز بازیکن تغییر کنه، می‌تونیم محاسبه رو روی متغیر انجام بدیم تا مقدار جدید رو ثبت داشته باشیم."
      ]
    },
    {
      "cell_type": "code",
      "execution_count": null,
      "id": "019ca96e",
      "metadata": {
        "id": "019ca96e"
      },
      "outputs": [],
      "source": [
        "score = score + 50 # now score is 0 + 50 which is 50\n",
        "print(score)"
      ]
    },
    {
      "cell_type": "markdown",
      "id": "b6d6a85b-c210-4bd3-8cb3-7013775fcec4",
      "metadata": {
        "id": "b6d6a85b-c210-4bd3-8cb3-7013775fcec4"
      },
      "source": [
        "In a similar way, when the score increases by 100 points, the variable `score` can be updated by adding `100` to the previous value stored in `score`."
      ]
    },
    {
      "cell_type": "code",
      "execution_count": null,
      "id": "a7b08d88",
      "metadata": {
        "id": "a7b08d88"
      },
      "outputs": [],
      "source": [
        "score = score + 100 # now score is 100 + 50 which is 150\n",
        "print(score)"
      ]
    },
    {
      "cell_type": "markdown",
      "id": "cbd2c6e3-edd1-42fc-9f3b-b4b1eed37412",
      "metadata": {
        "id": "cbd2c6e3-edd1-42fc-9f3b-b4b1eed37412"
      },
      "source": [
        "و به همین ترتیب امتیاز در تغییرهای بعدی هم ثبت میشه:"
      ]
    },
    {
      "cell_type": "code",
      "execution_count": null,
      "id": "101602ad",
      "metadata": {
        "id": "101602ad"
      },
      "outputs": [],
      "source": [
        "score = score + 300 # now score is 150 + 300 which is 450\n",
        "print(score)"
      ]
    },
    {
      "cell_type": "markdown",
      "id": "50b3f514-dd75-475c-819f-ad55e93f2728",
      "metadata": {
        "id": "50b3f514-dd75-475c-819f-ad55e93f2728"
      },
      "source": [
        "پس در پایان متغیر «اسکور» در بالا حاوی آخرین مقدار خواهد بود.\n",
        "\n",
        "و خب امتیاز نهایی رو با اف-استرینگ چاپ می‌کنی:"
      ]
    },
    {
      "cell_type": "code",
      "execution_count": null,
      "id": "4a0cc976",
      "metadata": {
        "id": "4a0cc976"
      },
      "outputs": [],
      "source": [
        "print(f\"Your final score was: {score}\") # prints 450"
      ]
    },
    {
      "cell_type": "markdown",
      "id": "8c98ef76-dbc5-46e9-bfea-44e1eead9e19",
      "metadata": {
        "id": "8c98ef76-dbc5-46e9-bfea-44e1eead9e19"
      },
      "source": [
        "## محدودیت‌‌های نام‌گذاری متغیرها"
      ]
    },
    {
      "cell_type": "markdown",
      "id": "a521e742-511b-4d4d-b07c-248ec3d5e43d",
      "metadata": {
        "id": "a521e742-511b-4d4d-b07c-248ec3d5e43d"
      },
      "source": [
        "هر نامی رو نمیشه برای متغیر گذاشت. برخی نام‌ها از قبل رزرو شدن و برخی نام‌ها قوعد رو زیر پا می‌گذارن.\n",
        "\n",
        "مثلا تکه کد پایین رو اجرا و دراین مورد با چت‌بات مشورت کن:"
      ]
    },
    {
      "cell_type": "code",
      "execution_count": null,
      "id": "42e3bcd2",
      "metadata": {
        "id": "42e3bcd2"
      },
      "outputs": [],
      "source": [
        "my score = 450"
      ]
    },
    {
      "cell_type": "markdown",
      "id": "a4b2761a-e06d-46a3-a68f-1b6017a81881",
      "metadata": {
        "id": "a4b2761a-e06d-46a3-a68f-1b6017a81881"
      },
      "source": [
        "از چت‌بات بپرس چرا این کد کار نمی‌کنه و ازش بخواه قواعد نام‌گذاری متغیرها در پایتون رو برات بگه:\n",
        "\n",
        "<p style=\"background-color:#F5C780; padding:15px\"> 🤖 <b>پرامپت به چت‌بات</b>:\n",
        "\n",
        "Why doesn't this code work? my score = 450\n",
        "</p>"
      ]
    },
    {
      "cell_type": "markdown",
      "id": "5aece0d4",
      "metadata": {
        "id": "5aece0d4"
      },
      "source": [
        "## متغیرها کد رو پربازده می‌کنن"
      ]
    },
    {
      "cell_type": "markdown",
      "id": "a5e87451",
      "metadata": {
        "id": "a5e87451"
      },
      "source": [
        "سن سگی رو از درس قبلی به خاطر داری؟\n",
        "\n",
        "فرض کن قصد داری سن سگی فردی با سن انسانی ۴۹ سال رو نشون بدی. این شکلی میشه نه؟"
      ]
    },
    {
      "cell_type": "code",
      "execution_count": null,
      "id": "1643e928",
      "metadata": {
        "id": "1643e928"
      },
      "outputs": [],
      "source": [
        "print(49 / 7)"
      ]
    },
    {
      "cell_type": "markdown",
      "id": "e3de9f60",
      "metadata": {
        "id": "e3de9f60"
      },
      "source": [
        "و اگر بخواهی از اف-استرینگ استفاده کنی هم چنین چیزی:"
      ]
    },
    {
      "cell_type": "code",
      "execution_count": null,
      "id": "4db3559f",
      "metadata": {
        "id": "4db3559f"
      },
      "outputs": [],
      "source": [
        "print(f\"Otto's age in dog years is {49 / 7}\")"
      ]
    },
    {
      "cell_type": "markdown",
      "id": "98904686",
      "metadata": {
        "id": "98904686"
      },
      "source": [
        "حالا ببین چطور از متغیر استفاده می‌کنم.\n",
        "\n",
        "سن سگی رو اول داخل یه متغیر ذخیره می‌کنم."
      ]
    },
    {
      "cell_type": "code",
      "execution_count": null,
      "id": "a9918f72",
      "metadata": {
        "id": "a9918f72"
      },
      "outputs": [],
      "source": [
        "dog_age = 49 / 7"
      ]
    },
    {
      "cell_type": "markdown",
      "id": "8db0f9f6",
      "metadata": {
        "id": "8db0f9f6"
      },
      "source": [
        "خوبیش رو از نمونه پایین می‌تونی درک کنی.\n",
        "\n",
        "این پایین من داخل اف-استرینگ چند بار سن سگی اوتو رو گزارش کردم.\n",
        "\n",
        "حالا اگه سن اوتو تغییر کنه من باید همه جاها رو تغییر بدم؟"
      ]
    },
    {
      "cell_type": "code",
      "execution_count": null,
      "id": "2874dcd1",
      "metadata": {
        "id": "2874dcd1"
      },
      "outputs": [],
      "source": [
        "print(f\"\"\"Otto's dog age is {49/7}. So a dog that's about\n",
        "{49/7} would be the same age as Otto. Any dog born about {49/7}\n",
        "years ago would be in the same stage of life as Otto.\"\"\")"
      ]
    },
    {
      "cell_type": "markdown",
      "id": "335511cc",
      "metadata": {
        "id": "335511cc"
      },
      "source": [
        "یه قاعده تو برنامه‌نویسی هست که میگه:\n",
        "\n",
        "«خودت رو تکرار نکن»\n",
        "\n",
        "یعنی تا حد ممکن کاری کن که دوباره کاری و دوباره نویسی نداشته باشی.\n",
        "\n",
        "با این رویکرد اگه متغیر سن سگی اوتو رو داخل اف استرینگ بگذاریم چی میشه؟"
      ]
    },
    {
      "cell_type": "code",
      "execution_count": null,
      "id": "98bf95bf",
      "metadata": {
        "id": "98bf95bf"
      },
      "outputs": [],
      "source": [
        "print(f\"\"\"Otto's dog age is {dog_age}. So a dog that's about\n",
        "{dog_age} would be the same age as Otto. Any dog born about {dog_age}\n",
        "years ago would be in the same stage of life as Otto.\"\"\")"
      ]
    },
    {
      "cell_type": "markdown",
      "id": "bc58205f",
      "metadata": {
        "id": "bc58205f"
      },
      "source": [
        "حالا اگه سن اوتو تغییر کنه کافیه متغیر سن سگی یک بار به روز بشه.\n",
        "\n",
        "در این صورت هر جا ازش استفاده شده روزآمد میشه."
      ]
    },
    {
      "cell_type": "code",
      "execution_count": null,
      "id": "e7652ae2",
      "metadata": {
        "id": "e7652ae2"
      },
      "outputs": [],
      "source": [
        "dog_age = 50/7"
      ]
    },
    {
      "cell_type": "code",
      "execution_count": null,
      "id": "9df1557b",
      "metadata": {
        "id": "9df1557b"
      },
      "outputs": [],
      "source": [
        "print(f\"\"\"Otto's dog age is {dog_age}. So a dog that's about\n",
        "{dog_age} would be the same age as Otto. Any dog born about {dog_age}\n",
        "years ago would be in the same stage of life as Otto.\"\"\")"
      ]
    },
    {
      "cell_type": "markdown",
      "id": "c2fd294e",
      "metadata": {
        "id": "c2fd294e"
      },
      "source": [
        "حتی خود نام رو هم که چند بار تکرار شده می‌تونیم با متغیر نام جایگزین کنیم."
      ]
    },
    {
      "cell_type": "code",
      "execution_count": null,
      "id": "d75fdd48",
      "metadata": {
        "id": "d75fdd48"
      },
      "outputs": [],
      "source": [
        "print(f\"\"\"{name}'s dog age is {dog_age}. So a dog that's about\n",
        "{dog_age} would be the same age as {name}. Any dog born about {dog_age}\n",
        "years ago would be in the same stage of life as {name}.\"\"\")"
      ]
    },
    {
      "cell_type": "markdown",
      "id": "18ea082a",
      "metadata": {
        "id": "18ea082a"
      },
      "source": [
        "حالا اگه نام به هر دلیل تغییر کنه، هر جا که استفاده شده هم با اجرای جدید تغییر خواهد کرد."
      ]
    },
    {
      "cell_type": "code",
      "execution_count": null,
      "id": "1b6d403b",
      "metadata": {
        "id": "1b6d403b"
      },
      "outputs": [],
      "source": [
        "name = \"Otto Matic\""
      ]
    },
    {
      "cell_type": "code",
      "execution_count": null,
      "id": "21d5d631",
      "metadata": {
        "id": "21d5d631"
      },
      "outputs": [],
      "source": [
        "print(f\"\"\"{name}'s dog age is {dog_age}. So a dog that's about\n",
        "{dog_age} would be the same age as {name}. Any dog born about {dog_age}\n",
        "years ago would be in the same stage of life as {name}.\"\"\")"
      ]
    },
    {
      "cell_type": "markdown",
      "id": "98ec7de7",
      "metadata": {
        "id": "98ec7de7"
      },
      "source": [
        "## تمرین\n",
        "\n",
        "با یافته‌های این درس تمرین‌ها رو به انجام برسون.\n",
        "\n",
        "<b>هر جا نیاز دیدی از چت‌بات کمک بگیر.</b>"
      ]
    },
    {
      "cell_type": "code",
      "execution_count": null,
      "id": "4e522416",
      "metadata": {
        "id": "4e522416"
      },
      "outputs": [],
      "source": [
        "# متغیری به نام «مای نیم» بساز و نام خودت رو در اون ذخیره کن\n",
        "# حالا مشابه عبارت «سلام مصطفی!» یک سلام به خودت چاپ کن\n",
        "my_name =\n",
        "print()"
      ]
    },
    {
      "cell_type": "code",
      "execution_count": null,
      "id": "8124eec4",
      "metadata": {
        "id": "8124eec4"
      },
      "outputs": [],
      "source": [
        "# عدد مورد علاقه خودت رو به صورت متغیر ذخیره کن\n",
        "# حالا حاصل جمع ۱۰ با عدد مورد علاقه خودت رو چاپ کن\n",
        "fav_num =\n",
        "print(f\"Your favorite number plus 10 is {}\")"
      ]
    },
    {
      "cell_type": "code",
      "execution_count": null,
      "id": "1bc3acdd",
      "metadata": {
        "id": "1bc3acdd"
      },
      "outputs": [],
      "source": [
        "# دو متغیر پایین رو بساز\n",
        "#'cities_visited'  'cities_to_visit'\n",
        "# تعداد شهرهایی که تاحالا دیدی و شهرهایی که می‌خواهی ببینی رو ذخیره کن\n",
        "#بعد با جایگزینی درست متغیرها عبارت پایین رو چاپ کن\n",
        "\n",
        "\n",
        "print(f\"\"\"I have visited {} cities. I plan to visit {} more cities,\n",
        "      and when I'm done I will have visited {} cities.\"\"\")"
      ]
    }
  ],
  "metadata": {
    "kernelspec": {
      "display_name": "Python 3 (ipykernel)",
      "language": "python",
      "name": "python3"
    },
    "language_info": {
      "codemirror_mode": {
        "name": "ipython",
        "version": 3
      },
      "file_extension": ".py",
      "mimetype": "text/x-python",
      "name": "python",
      "nbconvert_exporter": "python",
      "pygments_lexer": "ipython3",
      "version": "3.9.19"
    },
    "colab": {
      "provenance": [],
      "include_colab_link": true
    }
  },
  "nbformat": 4,
  "nbformat_minor": 5
}