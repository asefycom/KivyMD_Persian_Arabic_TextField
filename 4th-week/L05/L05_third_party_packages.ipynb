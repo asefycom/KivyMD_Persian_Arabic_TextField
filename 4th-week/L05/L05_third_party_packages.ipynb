{
  "cells": [
    {
      "cell_type": "markdown",
      "metadata": {
        "id": "view-in-github",
        "colab_type": "text"
      },
      "source": [
        "<a href=\"https://colab.research.google.com/github/asefycom/KivyMD_Persian_Arabic_TextField/blob/master/4th-week/L05/L05_third_party_packages.ipynb\" target=\"_parent\"><img src=\"https://colab.research.google.com/assets/colab-badge.svg\" alt=\"Open In Colab\"/></a>"
      ]
    },
    {
      "cell_type": "markdown",
      "metadata": {
        "id": "gF1YYP-jSUKa"
      },
      "source": [
        "# هفته چهارم - درس ۵: بسته‌های سوم شخص در پایتون"
      ]
    },
    {
      "cell_type": "markdown",
      "metadata": {
        "id": "9GoK_JSESUKd"
      },
      "source": [
        "تا اینجا هر بار که توگدر رو نصب می‌کردیم در واقع یک بسته سوم شخص به پایتون خودمون اضافه می‌کردیم.\n",
        "\n",
        "بسته‌ای که نه برای خود ما بود نه پیش‌ساخته  پایتون بلکه یک گروه سومی اون رو درست کرده بودن."
      ]
    },
    {
      "cell_type": "markdown",
      "metadata": {
        "id": "LnpNpb5wSUKe"
      },
      "source": [
        "## تحلیل داده با بسته پانداس\n",
        "\n",
        "```pandas```"
      ]
    },
    {
      "cell_type": "markdown",
      "metadata": {
        "id": "IKRpdR68SUKf"
      },
      "source": [
        "پانداس یکی از معروف‌ترین و پرکاربردترین بسته‌های سوم شخص پایتون هست.\n",
        "\n",
        "با تابع‌هایی که در این بسته نوشته شده می‌تونیم داده‌های ساختارمند مثل صفحه‌گسترده‌ها یا سی‌اس‌وی رو فراخوانی و کاوش کنیم.\n",
        "\n",
        "[وبسایت پانداس](https://pandas.pydata.org/)\n",
        "\n",
        "برای استفاده از این بسته باید اول اون رو نصب و بعد فراخوانی کنی.\n",
        "\n",
        "البته وقتی داخل کولب کار می‌کنیم به صورت پیش‌فرض این بسته و بسیاری بسته‌های معروف سوم شخص از قبل روی پایتون سرور گوگل نصب هستن.\n",
        "\n",
        "اما روی سیستم خودمون که تازه پایتون رو نصب کردیم باید پانداس رو با دستور پیپ (که درس ۱ باهاش آشنا شدی)نصب کنیم.\n",
        "\n"
      ]
    },
    {
      "cell_type": "code",
      "source": [
        "#برای اجرای محلی\n",
        "!pip install pandas"
      ],
      "metadata": {
        "id": "w-LhJL10WcDg"
      },
      "execution_count": null,
      "outputs": []
    },
    {
      "cell_type": "markdown",
      "source": [
        "بعد از نصب می‌تونی فراخوانیش کنی.\n",
        "\n",
        "حتی می‌تونی یک نام مستعار هم بهش بدی."
      ],
      "metadata": {
        "id": "WwZHtEugW5Ec"
      }
    },
    {
      "cell_type": "code",
      "execution_count": 1,
      "metadata": {
        "height": 31,
        "id": "RsjWYYypSUKg"
      },
      "outputs": [],
      "source": [
        "import pandas as pd"
      ]
    },
    {
      "cell_type": "markdown",
      "metadata": {
        "id": "q_y6LuTDSUKh"
      },
      "source": [
        "<p style=\"background-color:#F5C780; padding:15px\"> 🤖 <b>از چت‌بات بپرس</b>:\n",
        "<br><br>\n",
        "کلیدواژه as در کد پایین به چه معناست؟\n",
        "<br><br>\n",
        "import pandas as pd\n",
        "</p>"
      ]
    },
    {
      "cell_type": "markdown",
      "metadata": {
        "id": "xTLv-vO1SUKi"
      },
      "source": [
        "خب پس ما ماژول پانداس رو که شخص سومی (جدا از ما و پایتون) نوشته فراخوانی کردیم.\n",
        "\n",
        "حالا اگه از درس ۳ یادت باشه چون به این سبک ماژول رو صدا کردیم، برای فراخوانی تابع‌هاش باید از نقطه استفاده کنی.\n"
      ]
    },
    {
      "cell_type": "markdown",
      "metadata": {
        "id": "789LVXvtSUKi"
      },
      "source": [
        "برای شروع بیا تابع «خوندن سی‌اس‌وی» رو ازش صدا کنیم.\n",
        "\n",
        "> یادت باشه که این فایل (که به این درس پیوست شده) باید کنار این دفترچه باشه تا بشه این طوری صداش کرد.\n",
        "\n",
        "> پس یا دستی آپلودش کن یا از کدهای کلون مخزن گیت‌هاب استفاده کن تا خودکار اضافه بشه.\n",
        "\n"
      ]
    },
    {
      "cell_type": "code",
      "execution_count": 3,
      "metadata": {
        "height": 100,
        "colab": {
          "base_uri": "https://localhost:8080/"
        },
        "id": "a9wNz31tSUKi",
        "outputId": "c5f40460-2d04-4d48-e20e-1cbbf3ad8e56"
      },
      "outputs": [
        {
          "output_type": "stream",
          "name": "stdout",
          "text": [
            "                         Model    Price  Year  Kilometer\n",
            "0    Honda Amaze 1.2 VX i-VTEC  5050.00  2017      87150\n",
            "1              Honda Brio V MT  3510.00  2014      39276\n",
            "2      Honda WR-V VX MT Petrol  8199.99  2018      27963\n",
            "3            Honda CR-V 2.4 AT  8600.00  2013      67000\n",
            "4              Honda Brio S MT  4400.00  2016      50374\n",
            "..                         ...      ...   ...        ...\n",
            "153  Honda Accord 2.4 iVtec AT  1950.00  2008      57885\n",
            "154       Honda City SV Diesel  7500.00  2018      75000\n",
            "155               Honda City V  7300.00  2016      51834\n",
            "156          Honda City SV CVT  5900.00  2015     116592\n",
            "157               Honda City V  4800.00  2015      49000\n",
            "\n",
            "[158 rows x 4 columns]\n"
          ]
        }
      ],
      "source": [
        "# Dataset adapted from here\n",
        "# https://www.kaggle.com/datasets/nehalbirla/vehicle-dataset-from-cardekho\n",
        "\n",
        "data = pd.read_csv('car_data.csv')\n",
        "\n",
        "print(data)"
      ]
    },
    {
      "cell_type": "markdown",
      "source": [
        "پی‌نوشت: چنین داده‌هایی رو برای بازار ایران هم می‌تونی با خزش یا اسکریپت در وبسایت‌هایی مثل «دیوار» یا دریافت ای‌پی‌آی از سایت‌هایی مثل «برآورد» هم به‌دست بیاری.\n",
        "\n",
        "البته برای خزش باید قوانین اون سایت مورد نظرت رو برسی کنی."
      ],
      "metadata": {
        "id": "0KhdzeRLc3Kr"
      }
    },
    {
      "cell_type": "markdown",
      "metadata": {
        "id": "aC8bttY3SUKj"
      },
      "source": [
        "برگردیم به داد‌های بالا! فرض کن بخواهی روی داده‌ها فیلتر اعمال کنی.\n",
        "\n",
        "مثلا چطور می‌تونیم اطلاعات ماشین‌های بالای ۱۰ هزار دلار رو فقط نمایش بدیم؟\n"
      ]
    },
    {
      "cell_type": "markdown",
      "metadata": {
        "id": "AsYIcwP2SUKj"
      },
      "source": [
        "<p style=\"background-color:#F5C780; padding:15px\"> 🤖 <b>از چت‌بات بپرس</b>:\n",
        "<br><br>\n",
        "من داده‌های یک فایل سی‌اس‌وی رو با این کدها و بسته پانداس فراخوانی کردم:\n",
        "<br><br>data = pd.read_csv('car_data.csv')\n",
        "<br>print(data)<br><br>\n",
        "و بعد از چاپ، داده‌های چنین حالتی دارن:\n",
        "<br>\n",
        "\n",
        "Model    Price  Year  Kilometer <br>\n",
        "0    Honda Amaze 1.2 VX i-VTEC  5050.00  2017      87150 <br>\n",
        "1              Honda Brio V MT  3510.00  2014      39276 <br>\n",
        "2      Honda WR-V VX MT Petrol  8199.99  2018      27963 <br>\n",
        "3            Honda CR-V 2.4 AT  8600.00  2013      67000 <br>\n",
        "4              Honda Brio S MT  4400.00  2016      50374 <br><br>\n",
        "\n",
        "چطور با پانداس فقط ماشین‌هایی رو فیلتر کنم که قیمت مساوی یا بیش از ۱۰۰۰۰ دلار دارن؟\n",
        "\n",
        " <br>\n",
        "</p>"
      ]
    },
    {
      "cell_type": "markdown",
      "metadata": {
        "id": "W_AJiFJSSUKk"
      },
      "source": [
        "چت‌جی‌پی‌تی به من این کد رو داد.\n",
        "\n",
        "این هم [لینک عمومی چت من](https://chatgpt.com/share/6894177c-f580-8005-bf53-9344bed74e1b) اگه دوست داشتی بررسی کنی."
      ]
    },
    {
      "cell_type": "code",
      "execution_count": 5,
      "metadata": {
        "height": 48,
        "colab": {
          "base_uri": "https://localhost:8080/"
        },
        "id": "eSBuVN85SUKk",
        "outputId": "31292479-6240-4f18-b1df-98fd23def9e1"
      },
      "outputs": [
        {
          "output_type": "stream",
          "name": "stdout",
          "text": [
            "                                    Model    Price  Year  Kilometer\n",
            "21                           Honda City V  10600.0  2019      12382\n",
            "30               Honda City ZX CVT Petrol  17000.0  2022       8530\n",
            "38               Honda City ZX CVT Petrol  14500.0  2021      13000\n",
            "41               Honda City VX CVT Petrol  13900.0  2022      32000\n",
            "56   Honda City ZX CVT Petrol [2017-2019]  11380.0  2018       6000\n",
            "63                   Honda City ZX Diesel  14900.0  2021      11000\n",
            "76   Honda City VX CVT Petrol [2017-2019]  10500.0  2017      29386\n",
            "78               Honda City ZX CVT Petrol  15300.0  2022       2000\n",
            "79                    Honda City V Petrol  10950.0  2022       2700\n",
            "88    Honda City V CVT Petrol [2017-2019]  13400.0  2021      11000\n",
            "109                         Honda City VX  11990.0  2020      26497\n",
            "117                  Honda City ZX Diesel  14500.0  2022       2500\n",
            "121                         Honda City VX  12550.0  2021      10000\n",
            "134   Honda City V CVT Petrol [2017-2019]  10400.0  2019      18000\n",
            "143                Honda CR-V 2.0L 2WD AT  11300.0  2015      50000\n"
          ]
        }
      ],
      "source": [
        "# نمایش ماشین‌های بالای ۱۰۰۰۰ دلار\n",
        "print(data[data[\"Price\"]>=10000])"
      ]
    },
    {
      "cell_type": "markdown",
      "metadata": {
        "id": "M5Cg9uU1SUKl"
      },
      "source": [
        "مشابه همین می‌تونی فیلترهایی بر اساس ستون‌های دیگه هم تنظیم کنی."
      ]
    },
    {
      "cell_type": "code",
      "execution_count": 6,
      "metadata": {
        "height": 48,
        "colab": {
          "base_uri": "https://localhost:8080/"
        },
        "id": "wOpsYKDQSUKl",
        "outputId": "b93a2b7b-c209-4c1d-c22e-9ad56e25ff16"
      },
      "outputs": [
        {
          "output_type": "stream",
          "name": "stdout",
          "text": [
            "                           Model    Price  Year  Kilometer\n",
            "20        Honda Mobilio S Diesel   4750.0  2015      72000\n",
            "24        Honda Jazz V AT Petrol   5450.0  2015      42000\n",
            "32          Honda Jazz SV Petrol   4950.0  2015      52000\n",
            "36           Honda City S Diesel   6450.0  2015      64000\n",
            "40           Honda City V Diesel   5250.0  2015     114635\n",
            "54          Honda City VX (O) MT   5950.0  2015      72000\n",
            "73                 Honda City VX   5500.0  2015      44000\n",
            "93           Honda City S Diesel   5850.0  2015      61000\n",
            "96       Honda Mobilio RS Diesel   6750.0  2015      48000\n",
            "98          Honda City SV Diesel   5400.0  2015      76000\n",
            "101            Honda City SV CVT   5900.0  2015      75258\n",
            "103          Honda Jazz V Diesel   5250.0  2015      68244\n",
            "123            Honda City VX CVT   6900.0  2015      59000\n",
            "125    Honda Amaze 1.5 VX i-DTEC   5150.0  2015      63587\n",
            "135  Honda Jazz S AT [2015-2016]   5200.0  2015      42000\n",
            "143       Honda CR-V 2.0L 2WD AT  11300.0  2015      50000\n",
            "156            Honda City SV CVT   5900.0  2015     116592\n",
            "157                 Honda City V   4800.0  2015      49000\n"
          ]
        }
      ],
      "source": [
        "# نمایش ماشین‌های بعد از ۲۰۱۵\n",
        "print(data[data[\"Year\"]==2015])"
      ]
    },
    {
      "cell_type": "markdown",
      "metadata": {
        "id": "uqtzChDTSUKl"
      },
      "source": [
        "پانداس ابزارهایی برای کارهای آماری روی داده‌ها داره.\n",
        "\n",
        "برای نمونه بیا میانه قیمت ماشین‌های بعد از ۲۰۱۵ رو محاسبه کنیم."
      ]
    },
    {
      "cell_type": "code",
      "execution_count": 7,
      "metadata": {
        "height": 48,
        "colab": {
          "base_uri": "https://localhost:8080/"
        },
        "id": "nxokRFZPSUKm",
        "outputId": "f1b6f386-738b-4c9b-b4b4-579c931128ed"
      },
      "outputs": [
        {
          "output_type": "stream",
          "name": "stdout",
          "text": [
            "5475.0\n"
          ]
        }
      ],
      "source": [
        "filtered_data = data[data[\"Year\"]==2015]\n",
        "print(filtered_data[\"Price\"].median())"
      ]
    },
    {
      "cell_type": "markdown",
      "metadata": {
        "id": "44n_A77DSUKm"
      },
      "source": [
        "## ترسیم داده‌ها با بسته متپلاتلیب\n",
        "\n",
        "```matplotlib```"
      ]
    },
    {
      "cell_type": "markdown",
      "metadata": {
        "id": "cFyj3A6oSUKm"
      },
      "source": [
        "دانشمندان داده و توسعه‌دهنده‌ها بسیار از این بسته استفاده می‌کنن.\n",
        "\n",
        "[وبسایت متپلاتلیب](https://matplotlib.org/)\n",
        "\n",
        "مثل پانداس روی کولب نصب هست.\n",
        "\n",
        "برای استفاده محلی هم باید با پیپ نصبش کنی."
      ]
    },
    {
      "cell_type": "code",
      "source": [
        "# برای استفاده روی سیستم خودت\n",
        "!pip install matplotlib"
      ],
      "metadata": {
        "id": "bTBTCuplimr-"
      },
      "execution_count": null,
      "outputs": []
    },
    {
      "cell_type": "code",
      "execution_count": 8,
      "metadata": {
        "height": 48,
        "id": "5Xy6yjXpSUKm"
      },
      "outputs": [],
      "source": [
        "# Note the .pyplot\n",
        "import matplotlib.pyplot as plt"
      ]
    },
    {
      "cell_type": "markdown",
      "metadata": {
        "id": "D2FDRxP0SUKm"
      },
      "source": [
        "چرا پای پلات رو فراخوانی کردیم؟ نگران پاسخ چنین پرسش‌هایی نباش. چت بات هست و می‌تونی ازش بپرس.\n",
        "\n",
        "همین حالا بپرس لطفا! خط کد ایمپورت بالا رو به چت بات بده و بپرس که چرا به جای ایمپورت متپلاتلیب به صورت مستقیم، پایپلات رو ازش فراخوانی کردیم."
      ]
    },
    {
      "cell_type": "code",
      "execution_count": 9,
      "metadata": {
        "height": 133,
        "colab": {
          "base_uri": "https://localhost:8080/",
          "height": 472
        },
        "id": "FkD9z3NoSUKn",
        "outputId": "11c7a42c-4457-4c0d-c498-9f2eb6ac75c9"
      },
      "outputs": [
        {
          "output_type": "display_data",
          "data": {
            "text/plain": [
              "<Figure size 640x480 with 1 Axes>"
            ],
            "image/png": "[encoded data removed]"
          },
          "metadata": {}
        }
      ],
      "source": [
        "plt.scatter(data[\"Kilometer\"], data[\"Price\"])\n",
        "\n",
        "plt.title('Car Price vs. Kilometers Driven')\n",
        "plt.xlabel('Kilometers Driven')\n",
        "plt.ylabel('Price (in USD)')\n",
        "\n",
        "plt.show()"
      ]
    },
    {
      "cell_type": "markdown",
      "metadata": {
        "id": "UWWkxCH1SUKn"
      },
      "source": [
        "ما اینجا نمودار پراکندگی (اسکترپلات) قیمت خودرو در برابر کیلومترش رو ترسیم کردیم. کم و بیش رابطه عکس دارن درسته؟\n",
        "\n",
        "همین طور دقت کن که تنظیمات ترسیم رو می‌تونی با امکانات این بسته شخصی‌سازی کنی."
      ]
    },
    {
      "cell_type": "markdown",
      "metadata": {
        "id": "9a442pLgSUKn"
      },
      "source": [
        "<p style=\"background-color:#F5C780; padding:15px\"> 🤖 <b>از چت‌بات بپرس</b>:\n",
        "<br><br>\n",
        "من با کد پایین، نموداری با متپلاتلیب ترسیم کردم:\n",
        "<br><br>\n",
        "plt.scatter(data[\"Kilometer\"], data[\"Price\"])\n",
        "<br>plt.title('Car Price vs. Kilometers Driven')<br>\n",
        "plt.xlabel('Kilometers Driven')<br>\n",
        "plt.ylabel('Price (in USD)')<br>\n",
        "plt.show()<br><br>\n",
        "\n",
        "لطفا یک گرید اضافه کن، رنگ نقطه‌ها رو به قرمز تغییر بده و اندازه فونت رو اضافه کن.\n",
        "</p>\n",
        "\n"
      ]
    },
    {
      "cell_type": "markdown",
      "metadata": {
        "id": "5vO6-T8PSUKn"
      },
      "source": [
        "چت‌جی‌پی‌تی این کد رو به من داد.\n",
        "\n",
        "این هم [لینک عمومی چت من](https://chatgpt.com/share/68941cdf-e070-8005-af44-958cafc27de6) در این مورد"
      ]
    },
    {
      "cell_type": "code",
      "execution_count": 10,
      "metadata": {
        "height": 202,
        "colab": {
          "base_uri": "https://localhost:8080/",
          "height": 477
        },
        "id": "n15GcjHySUKn",
        "outputId": "c6b8f46e-a7b7-49be-dfc6-f73258d67c67"
      },
      "outputs": [
        {
          "output_type": "display_data",
          "data": {
            "text/plain": [
              "<Figure size 640x480 with 1 Axes>"
            ],
            "image/png": "[encoded data removed]"
          },
          "metadata": {}
        }
      ],
      "source": [
        "import matplotlib.pyplot as plt\n",
        "\n",
        "plt.scatter(data[\"Kilometer\"], data[\"Price\"], color='red')  # تغییر رنگ نقاط به قرمز\n",
        "plt.title('Car Price vs. Kilometers Driven', fontsize=14)   # اندازه فونت عنوان\n",
        "plt.xlabel('Kilometers Driven', fontsize=12)                # اندازه فونت برچسب محور x\n",
        "plt.ylabel('Price (in USD)', fontsize=12)                   # اندازه فونت برچسب محور y\n",
        "plt.grid(True)                                              # اضافه کردن گرید\n",
        "plt.show()\n"
      ]
    },
    {
      "cell_type": "markdown",
      "metadata": {
        "id": "rZVsLlNfSUKn"
      },
      "source": [
        "## تمرین بیشتر\n",
        "\n",
        "هر جا نیاز بود از چت‌بات مشورت بگیر 🤖\n",
        "\n",
        "### تمرین ۱\n",
        "\n",
        "کدی بنویس که فقط داده‌های این نوع ماشین رو داشته باشیم:\n",
        "\n",
        "Honda Accords\n",
        "\n",
        "**توجه:** تو همون چتی ادامه بده که پیش‌تر داده‌ها رو معرفی کردی.\n",
        "\n",
        "راستی می‌تونی به جای چت با چت بات تلاش  کنی اون نمونه کدی بالاتر برای اعمال فیلتر داشتیم رو کپی و خودت دستکاری کنی."
      ]
    },
    {
      "cell_type": "code",
      "execution_count": null,
      "metadata": {
        "height": 48,
        "id": "1evY0QG0SUKo"
      },
      "outputs": [],
      "source": [
        "# کد رو اینجا بزن\n"
      ]
    },
    {
      "cell_type": "markdown",
      "metadata": {
        "id": "x6DCaJf0SUKo"
      },
      "source": [
        "### تمرین ۲\n",
        "\n",
        "نمودار پراکندگی قیمت در برابر سال رو ترسیم کن."
      ]
    },
    {
      "cell_type": "code",
      "execution_count": null,
      "metadata": {
        "height": 48,
        "id": "PtW-ax0pSUKo"
      },
      "outputs": [],
      "source": [
        "# WRITE YOUR CODE HERE\n"
      ]
    },
    {
      "cell_type": "markdown",
      "metadata": {
        "id": "tRvV7jpgSUKo"
      },
      "source": [
        "### تمرین چالشی\n",
        "\n",
        "از مدل‌زبانی‌بزرگ خودت به واسطه توگدر بخواه که برات «پای‌ چارت» ترسیم کنه و نشون بده که چه تعداد ماشین در هر سال فروخته شده.\n",
        "\n",
        "`pie chart`\n",
        "\n",
        "**توجه:**\n",
        "\n",
        "نام متغیری که داده‌ها رو در اون ذخیره کردی رو هم در مقدارش بفرست تا متوجه بشه که داخل پانداس اسم متغیری که داده‌ها رو در اون واکشی کردی چی هست و کد رو بر اون اساس بنویسه.\n",
        "\n",
        "دقت کن خیلی با پرامپتی که اون بالا به چت‌بات دادیم فرق نداره. فقط اینجا پرامپت رو به مدل‌زبانی خودت می‌فرستی تا بتونی متغیر پویا داخلش قرار بدی."
      ]
    },
    {
      "cell_type": "code",
      "execution_count": null,
      "metadata": {
        "height": 48,
        "id": "YkmRFlPESUKp"
      },
      "outputs": [],
      "source": [
        "# کدت رو اینجا بزن\n"
      ]
    }
  ],
  "metadata": {
    "kernelspec": {
      "display_name": "Python 3 (ipykernel)",
      "language": "python",
      "name": "python3"
    },
    "language_info": {
      "codemirror_mode": {
        "name": "ipython",
        "version": 3
      },
      "file_extension": ".py",
      "mimetype": "text/x-python",
      "name": "python",
      "nbconvert_exporter": "python",
      "pygments_lexer": "ipython3",
      "version": "3.9.19"
    },
    "colab": {
      "provenance": [],
      "include_colab_link": true
    }
  },
  "nbformat": 4,
  "nbformat_minor": 0
}